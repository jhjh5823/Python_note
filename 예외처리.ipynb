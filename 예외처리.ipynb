{
  "nbformat": 4,
  "nbformat_minor": 0,
  "metadata": {
    "colab": {
      "name": "예외처리.ipynb",
      "provenance": [],
      "authorship_tag": "ABX9TyOLAnhcVc+aMYhljcpm/XrB",
      "include_colab_link": true
    },
    "kernelspec": {
      "name": "python3",
      "display_name": "Python 3"
    },
    "language_info": {
      "name": "python"
    }
  },
  "cells": [
    {
      "cell_type": "markdown",
      "metadata": {
        "id": "view-in-github",
        "colab_type": "text"
      },
      "source": [
        "<a href=\"https://colab.research.google.com/github/jhjh5823/Python_note/blob/master/%EC%98%88%EC%99%B8%EC%B2%98%EB%A6%AC.ipynb\" target=\"_parent\"><img src=\"https://colab.research.google.com/assets/colab-badge.svg\" alt=\"Open In Colab\"/></a>"
      ]
    },
    {
      "cell_type": "code",
      "execution_count": null,
      "metadata": {
        "colab": {
          "base_uri": "https://localhost:8080/"
        },
        "id": "5OS91gbkDXt7",
        "outputId": "1595dae3-bd5a-48bf-a260-15a8cfc58659"
      },
      "outputs": [
        {
          "output_type": "stream",
          "name": "stdout",
          "text": [
            "not readable\n"
          ]
        }
      ],
      "source": [
        "f= open('text.txt', 'w')\n",
        "try:\n",
        "  data = f.read()\n",
        "  print(data)\n",
        "\n",
        "except Exception as e:\n",
        "  print(e)\n",
        "finally:\n",
        "  f.close()"
      ]
    },
    {
      "cell_type": "code",
      "source": [
        "try:\n",
        "  a = [1, 2]\n",
        "  print(a[3])\n",
        "\n",
        "except ZeroDivisionError:\n",
        "  print('0으로 나눌 수 없습니다.')\n",
        "\n",
        "except IndexError:\n",
        "  print(\"인덱싱 할 수 없습니다.\")"
      ],
      "metadata": {
        "colab": {
          "base_uri": "https://localhost:8080/"
        },
        "id": "n73i5GyED6Cu",
        "outputId": "5ec8fb31-de82-40e8-8e35-48d10442466a"
      },
      "execution_count": null,
      "outputs": [
        {
          "output_type": "stream",
          "name": "stdout",
          "text": [
            "인덱싱 할 수 없습니다.\n"
          ]
        }
      ]
    },
    {
      "cell_type": "code",
      "source": [
        "try: \n",
        "  f = open('없는파일.txt', 'r')\n",
        "except FileNotFoundError:\n",
        "  pass"
      ],
      "metadata": {
        "id": "hCxS1mvpEfRt"
      },
      "execution_count": null,
      "outputs": []
    },
    {
      "cell_type": "code",
      "source": [
        "class Bird:\n",
        "  def fly(self):\n",
        "    raise NotImplementedError\n",
        "\n",
        "class Eagle(Bird):\n",
        "  def fly(self):\n",
        "    print('very fast')\n",
        "\n",
        "eagle = Eagle()\n",
        "eagle.fly"
      ],
      "metadata": {
        "colab": {
          "base_uri": "https://localhost:8080/"
        },
        "id": "CK-lEXHUEoBV",
        "outputId": "4176c8e9-57f6-4bb7-abda-a9153c885ade"
      },
      "execution_count": null,
      "outputs": [
        {
          "output_type": "execute_result",
          "data": {
            "text/plain": [
              "<bound method Eagle.fly of <__main__.Eagle object at 0x7fc1d6ec58d0>>"
            ]
          },
          "metadata": {},
          "execution_count": 6
        }
      ]
    }
  ]
}